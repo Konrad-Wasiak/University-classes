{
 "cells": [
  {
   "cell_type": "code",
   "outputs": [],
   "source": [
    "import pandas as pd\n",
    "df = pd.read_csv('movies.csv', sep=';', encoding = \"ISO-8859-1\")\n",
    "df.drop(0, inplace=True)"
   ],
   "metadata": {
    "collapsed": false,
    "ExecuteTime": {
     "end_time": "2024-05-06T21:02:55.844755Z",
     "start_time": "2024-05-06T21:02:54.592225Z"
    }
   },
   "id": "16e49ce8f78f1637",
   "execution_count": 1
  },
  {
   "cell_type": "code",
   "outputs": [
    {
     "data": {
      "text/plain": "Empty DataFrame\nColumns: [Year, Length, Title, Subject, Actor, Actress, Director, Popularity, Awards, *Image]\nIndex: []",
      "text/html": "<div>\n<style scoped>\n    .dataframe tbody tr th:only-of-type {\n        vertical-align: middle;\n    }\n\n    .dataframe tbody tr th {\n        vertical-align: top;\n    }\n\n    .dataframe thead th {\n        text-align: right;\n    }\n</style>\n<table border=\"1\" class=\"dataframe\">\n  <thead>\n    <tr style=\"text-align: right;\">\n      <th></th>\n      <th>Year</th>\n      <th>Length</th>\n      <th>Title</th>\n      <th>Subject</th>\n      <th>Actor</th>\n      <th>Actress</th>\n      <th>Director</th>\n      <th>Popularity</th>\n      <th>Awards</th>\n      <th>*Image</th>\n    </tr>\n  </thead>\n  <tbody>\n  </tbody>\n</table>\n</div>"
     },
     "execution_count": 16,
     "metadata": {},
     "output_type": "execute_result"
    }
   ],
   "source": [
    "# Z1\n",
    "df['Year'] = df['Year'].astype(int)\n",
    "df.loc[df[\"Year\"]==2000]"
   ],
   "metadata": {
    "collapsed": false,
    "ExecuteTime": {
     "end_time": "2024-05-06T21:10:37.101797Z",
     "start_time": "2024-05-06T21:10:37.081012Z"
    }
   },
   "id": "daad1634403e4570",
   "execution_count": 16
  },
  {
   "cell_type": "code",
   "outputs": [
    {
     "data": {
      "text/plain": "Director\nAbrahams, Jim             95.5\nAdolphson, Edvin          75.0\nAlda, Alan               105.5\nAldrich, Robert          116.6\nAllegret, Marc            99.0\n                       ...    \nZieff, Howard            103.0\nZinnemann, Fred     101.666667\nZucker, David             90.0\nZucker, Jerry            127.0\nZwick, Edward            113.0\nName: Length, Length: 747, dtype: object"
     },
     "execution_count": 24,
     "metadata": {},
     "output_type": "execute_result"
    }
   ],
   "source": [
    "# Z2\n",
    "mask = pd.notna(df['Length'])\n",
    "no_null_length_df = df[mask]\n",
    "no_null_length_df.loc[:,'Length'] = no_null_length_df['Length'].astype(int)\n",
    "no_null_length_df.groupby(by='Director')['Length'].mean()"
   ],
   "metadata": {
    "collapsed": false,
    "ExecuteTime": {
     "end_time": "2024-05-06T21:18:51.927004Z",
     "start_time": "2024-05-06T21:18:51.804619Z"
    }
   },
   "id": "d3eb6f03e1ca85fa",
   "execution_count": 24
  },
  {
   "cell_type": "code",
   "outputs": [],
   "source": [
    "# Z3\n",
    "df_3cols = df.loc[:, ['Title', 'Director', 'Popularity']]\n",
    "df_3cols.to_csv('movies_3cols.csv', sep=';')"
   ],
   "metadata": {
    "collapsed": false,
    "ExecuteTime": {
     "end_time": "2024-05-06T21:20:55.364302Z",
     "start_time": "2024-05-06T21:20:55.328871Z"
    }
   },
   "id": "2fbf44b49edc9968",
   "execution_count": 27
  },
  {
   "cell_type": "code",
   "outputs": [
    {
     "data": {
      "text/plain": "Awards\nNo     90.174804\nYes     9.825196\nName: Title, dtype: float64"
     },
     "execution_count": 49,
     "metadata": {},
     "output_type": "execute_result"
    }
   ],
   "source": [
    "# Z4\n",
    "count = len(df)\n",
    "df.groupby('Awards').count()['Title']/count*100"
   ],
   "metadata": {
    "collapsed": false,
    "ExecuteTime": {
     "end_time": "2024-05-06T21:43:47.349599Z",
     "start_time": "2024-05-06T21:43:47.331155Z"
    }
   },
   "id": "a6f438323d4d45d4",
   "execution_count": 49
  },
  {
   "cell_type": "code",
   "outputs": [
    {
     "data": {
      "text/plain": "      Year Length                  Title          Subject              Actor  \\\n368   1980    144           Shining, The           Horror    Nicholson, Jack   \n619   1955     67          Killer's Kiss          Mystery     Silvera, Frank   \n745   1962    150                 Lolita            Drama       Mason, James   \n812   1957     89         Paths of Glory            Drama      Douglas, Kirk   \n1063  1960    185              Spartacus            Drama      Douglas, Kirk   \n1185  1968    139  2001: A Space Odyssey  Science Fiction       Dullea, Keir   \n1242  1956     83           Killing, The            Drama   Hayden, Sterling   \n1383  1971    138     A Clockwork Orange  Science Fiction  McDowell, Malcolm   \n1384  1991    117      Full Metal Jacket              War    Modine, Matthew   \n\n               Actress          Director Popularity Awards             *Image  \n368    Duvall, Shelley  Kubrick, Stanley         32     No  JackNicholson.png  \n619        Kane, Irene  Kubrick, Stanley         66     No   NicholasCage.png  \n745          Lyon, Sue  Kubrick, Stanley         80     No   NicholasCage.png  \n812    Menjou, Adolphe  Kubrick, Stanley         47     No   NicholasCage.png  \n1063     Simmons, Jean  Kubrick, Stanley         67    Yes   NicholasCage.png  \n1185  Tyzack, Margaret  Kubrick, Stanley         83     No   NicholasCage.png  \n1242    Windsor, Marie  Kubrick, Stanley         51     No   NicholasCage.png  \n1383               NaN  Kubrick, Stanley         83    Yes   NicholasCage.png  \n1384               NaN  Kubrick, Stanley         45     No   NicholasCage.png  ",
      "text/html": "<div>\n<style scoped>\n    .dataframe tbody tr th:only-of-type {\n        vertical-align: middle;\n    }\n\n    .dataframe tbody tr th {\n        vertical-align: top;\n    }\n\n    .dataframe thead th {\n        text-align: right;\n    }\n</style>\n<table border=\"1\" class=\"dataframe\">\n  <thead>\n    <tr style=\"text-align: right;\">\n      <th></th>\n      <th>Year</th>\n      <th>Length</th>\n      <th>Title</th>\n      <th>Subject</th>\n      <th>Actor</th>\n      <th>Actress</th>\n      <th>Director</th>\n      <th>Popularity</th>\n      <th>Awards</th>\n      <th>*Image</th>\n    </tr>\n  </thead>\n  <tbody>\n    <tr>\n      <th>368</th>\n      <td>1980</td>\n      <td>144</td>\n      <td>Shining, The</td>\n      <td>Horror</td>\n      <td>Nicholson, Jack</td>\n      <td>Duvall, Shelley</td>\n      <td>Kubrick, Stanley</td>\n      <td>32</td>\n      <td>No</td>\n      <td>JackNicholson.png</td>\n    </tr>\n    <tr>\n      <th>619</th>\n      <td>1955</td>\n      <td>67</td>\n      <td>Killer's Kiss</td>\n      <td>Mystery</td>\n      <td>Silvera, Frank</td>\n      <td>Kane, Irene</td>\n      <td>Kubrick, Stanley</td>\n      <td>66</td>\n      <td>No</td>\n      <td>NicholasCage.png</td>\n    </tr>\n    <tr>\n      <th>745</th>\n      <td>1962</td>\n      <td>150</td>\n      <td>Lolita</td>\n      <td>Drama</td>\n      <td>Mason, James</td>\n      <td>Lyon, Sue</td>\n      <td>Kubrick, Stanley</td>\n      <td>80</td>\n      <td>No</td>\n      <td>NicholasCage.png</td>\n    </tr>\n    <tr>\n      <th>812</th>\n      <td>1957</td>\n      <td>89</td>\n      <td>Paths of Glory</td>\n      <td>Drama</td>\n      <td>Douglas, Kirk</td>\n      <td>Menjou, Adolphe</td>\n      <td>Kubrick, Stanley</td>\n      <td>47</td>\n      <td>No</td>\n      <td>NicholasCage.png</td>\n    </tr>\n    <tr>\n      <th>1063</th>\n      <td>1960</td>\n      <td>185</td>\n      <td>Spartacus</td>\n      <td>Drama</td>\n      <td>Douglas, Kirk</td>\n      <td>Simmons, Jean</td>\n      <td>Kubrick, Stanley</td>\n      <td>67</td>\n      <td>Yes</td>\n      <td>NicholasCage.png</td>\n    </tr>\n    <tr>\n      <th>1185</th>\n      <td>1968</td>\n      <td>139</td>\n      <td>2001: A Space Odyssey</td>\n      <td>Science Fiction</td>\n      <td>Dullea, Keir</td>\n      <td>Tyzack, Margaret</td>\n      <td>Kubrick, Stanley</td>\n      <td>83</td>\n      <td>No</td>\n      <td>NicholasCage.png</td>\n    </tr>\n    <tr>\n      <th>1242</th>\n      <td>1956</td>\n      <td>83</td>\n      <td>Killing, The</td>\n      <td>Drama</td>\n      <td>Hayden, Sterling</td>\n      <td>Windsor, Marie</td>\n      <td>Kubrick, Stanley</td>\n      <td>51</td>\n      <td>No</td>\n      <td>NicholasCage.png</td>\n    </tr>\n    <tr>\n      <th>1383</th>\n      <td>1971</td>\n      <td>138</td>\n      <td>A Clockwork Orange</td>\n      <td>Science Fiction</td>\n      <td>McDowell, Malcolm</td>\n      <td>NaN</td>\n      <td>Kubrick, Stanley</td>\n      <td>83</td>\n      <td>Yes</td>\n      <td>NicholasCage.png</td>\n    </tr>\n    <tr>\n      <th>1384</th>\n      <td>1991</td>\n      <td>117</td>\n      <td>Full Metal Jacket</td>\n      <td>War</td>\n      <td>Modine, Matthew</td>\n      <td>NaN</td>\n      <td>Kubrick, Stanley</td>\n      <td>45</td>\n      <td>No</td>\n      <td>NicholasCage.png</td>\n    </tr>\n  </tbody>\n</table>\n</div>"
     },
     "execution_count": 30,
     "metadata": {},
     "output_type": "execute_result"
    }
   ],
   "source": [
    "# Z5\n",
    "mask = pd.notna(df['Director'])\n",
    "no_null_directors_df = df[mask]\n",
    "no_null_directors_df[no_null_directors_df['Director'].str.contains(\"Kubrick\")]"
   ],
   "metadata": {
    "collapsed": false,
    "ExecuteTime": {
     "end_time": "2024-05-06T21:24:45.422634Z",
     "start_time": "2024-05-06T21:24:45.393403Z"
    }
   },
   "id": "40d15142e3e7ad08",
   "execution_count": 30
  },
  {
   "cell_type": "code",
   "outputs": [
    {
     "data": {
      "text/plain": "Subject\nComedy    16489\nName: Popularity, dtype: object"
     },
     "execution_count": 45,
     "metadata": {},
     "output_type": "execute_result"
    }
   ],
   "source": [
    "# Z6\n",
    "mask = pd.notna(df['Popularity'])\n",
    "no_null_pop = df[mask]\n",
    "no_null_pop.loc[:, 'Popularity'] = no_null_pop['Popularity'].astype(int)\n",
    "comedy_no_null_pop = no_null_pop.loc[no_null_pop['Subject']=='Comedy']\n",
    "comedy_no_null_pop.groupby(by='Subject').sum()['Popularity']"
   ],
   "metadata": {
    "collapsed": false,
    "ExecuteTime": {
     "end_time": "2024-05-06T21:41:00.265215Z",
     "start_time": "2024-05-06T21:41:00.247848Z"
    }
   },
   "id": "22bfd10d78bdddd6",
   "execution_count": 45
  }
 ],
 "metadata": {
  "kernelspec": {
   "display_name": "Python 3",
   "language": "python",
   "name": "python3"
  },
  "language_info": {
   "codemirror_mode": {
    "name": "ipython",
    "version": 2
   },
   "file_extension": ".py",
   "mimetype": "text/x-python",
   "name": "python",
   "nbconvert_exporter": "python",
   "pygments_lexer": "ipython2",
   "version": "2.7.6"
  }
 },
 "nbformat": 4,
 "nbformat_minor": 5
}
